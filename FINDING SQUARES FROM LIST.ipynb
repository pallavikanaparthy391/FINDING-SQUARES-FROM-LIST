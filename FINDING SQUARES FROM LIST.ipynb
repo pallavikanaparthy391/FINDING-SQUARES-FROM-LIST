{
 "cells": [
  {
   "cell_type": "code",
   "execution_count": null,
   "id": "65364f6b",
   "metadata": {},
   "outputs": [],
   "source": [
    "FINDING SQUARES FROM GIVEN LIST"
   ]
  },
  {
   "cell_type": "code",
   "execution_count": null,
   "id": "67dc1c39",
   "metadata": {},
   "outputs": [],
   "source": []
  },
  {
   "cell_type": "code",
   "execution_count": 1,
   "id": "92b996c2",
   "metadata": {},
   "outputs": [
    {
     "name": "stdout",
     "output_type": "stream",
     "text": [
      "Given Numbers:  [4, 5, 2, 9]\n",
      "\n",
      "Square of given numbers are:\n",
      "[16, 25, 4, 81]\n"
     ]
    }
   ],
   "source": [
    "def square(num): # defining the square function\n",
    "    return num**2\n",
    "\n",
    "my_nums = [4,5,2,9] #Input list\n",
    "print(\"Given Numbers: \", my_nums) # printing given list\n",
    "map(square,my_nums)                         \n",
    "print(\"\\nSquare of given numbers are:\")      \n",
    "print(list(map(square,my_nums))) # to get the results , we are iterating through map function"
   ]
  },
  {
   "cell_type": "markdown",
   "id": "f5d9b1dd",
   "metadata": {},
   "source": [
    "# TEXT CASES"
   ]
  },
  {
   "cell_type": "code",
   "execution_count": 2,
   "id": "10bfa3c3",
   "metadata": {},
   "outputs": [
    {
     "name": "stdout",
     "output_type": "stream",
     "text": [
      "Given Numbers:  [0.5, 0.6, 0.7, 0.8]\n",
      "\n",
      "Square of given numbers are:\n",
      "[0.25, 0.36, 0.48999999999999994, 0.6400000000000001]\n"
     ]
    }
   ],
   "source": [
    "def square(num): # defining the square function\n",
    "    return num**2\n",
    "\n",
    "my_nums = [0.5,0.6,0.7,0.8] #Input list\n",
    "print(\"Given Numbers: \", my_nums) # printing given list\n",
    "map(square,my_nums)                         \n",
    "print(\"\\nSquare of given numbers are:\")      \n",
    "print(list(map(square,my_nums))) # to get the results , we are iterating through map function"
   ]
  },
  {
   "cell_type": "code",
   "execution_count": null,
   "id": "db4b4674",
   "metadata": {},
   "outputs": [],
   "source": []
  },
  {
   "cell_type": "code",
   "execution_count": 3,
   "id": "140ac37c",
   "metadata": {},
   "outputs": [
    {
     "name": "stdout",
     "output_type": "stream",
     "text": [
      "Given Numbers:  [-12, -13, -14, -15]\n",
      "\n",
      "Square of given numbers are:\n",
      "[144, 169, 196, 225]\n"
     ]
    }
   ],
   "source": [
    "def square(num): # defining the square function\n",
    "    return num**2\n",
    "\n",
    "my_nums = [-12,-13,-14,-15] #Input list\n",
    "print(\"Given Numbers: \", my_nums) # printing given list\n",
    "map(square,my_nums)                         \n",
    "print(\"\\nSquare of given numbers are:\")      \n",
    "print(list(map(square,my_nums))) # to get the results , we are iterating through map function"
   ]
  },
  {
   "cell_type": "code",
   "execution_count": null,
   "id": "5c45a54b",
   "metadata": {},
   "outputs": [],
   "source": []
  },
  {
   "cell_type": "code",
   "execution_count": null,
   "id": "419217a8",
   "metadata": {},
   "outputs": [],
   "source": []
  }
 ],
 "metadata": {
  "kernelspec": {
   "display_name": "Python 3 (ipykernel)",
   "language": "python",
   "name": "python3"
  },
  "language_info": {
   "codemirror_mode": {
    "name": "ipython",
    "version": 3
   },
   "file_extension": ".py",
   "mimetype": "text/x-python",
   "name": "python",
   "nbconvert_exporter": "python",
   "pygments_lexer": "ipython3",
   "version": "3.10.1"
  }
 },
 "nbformat": 4,
 "nbformat_minor": 5
}
